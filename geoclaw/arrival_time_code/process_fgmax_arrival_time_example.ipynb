{
 "cells": [
  {
   "cell_type": "markdown",
   "metadata": {},
   "source": [
    "# Process fgmax grid results and plot\n",
    "\n",
    "To process fgmax results after doing a run."
   ]
  },
  {
   "cell_type": "code",
   "execution_count": 1,
   "metadata": {
    "tags": [
     "hide-py"
    ]
   },
   "outputs": [],
   "source": [
    "%matplotlib inline"
   ]
  },
  {
   "cell_type": "code",
   "execution_count": 2,
   "metadata": {},
   "outputs": [],
   "source": [
    "from pylab import *"
   ]
  },
  {
   "cell_type": "code",
   "execution_count": 3,
   "metadata": {},
   "outputs": [],
   "source": [
    "import os,sys,glob,zipfile,shutil\n",
    "from importlib import reload\n",
    "from clawpack.geoclaw import topotools, dtopotools, kmltools\n",
    "from clawpack.visclaw import colormaps, plottools\n",
    "from clawpack.amrclaw import region_tools\n",
    "from scipy.interpolate import RegularGridInterpolator\n",
    "import matplotlib as mpl\n",
    "from matplotlib import colors\n",
    "import fgmax_tools"
   ]
  },
  {
   "cell_type": "code",
   "execution_count": 5,
   "metadata": {},
   "outputs": [
    {
     "ename": "ModuleNotFoundError",
     "evalue": "No module named 'netCDF4'",
     "output_type": "error",
     "traceback": [
      "\u001b[0;31m---------------------------------------------------------------------------\u001b[0m",
      "\u001b[0;31mModuleNotFoundError\u001b[0m                       Traceback (most recent call last)",
      "\u001b[0;32m<ipython-input-5-7141fc67431d>\u001b[0m in \u001b[0;36m<module>\u001b[0;34m\u001b[0m\n\u001b[1;32m      1\u001b[0m \u001b[0msys\u001b[0m\u001b[0;34m.\u001b[0m\u001b[0mpath\u001b[0m\u001b[0;34m.\u001b[0m\u001b[0minsert\u001b[0m\u001b[0;34m(\u001b[0m\u001b[0;36m0\u001b[0m\u001b[0;34m,\u001b[0m\u001b[0;34m'../common_python'\u001b[0m\u001b[0;34m)\u001b[0m\u001b[0;34m\u001b[0m\u001b[0;34m\u001b[0m\u001b[0m\n\u001b[0;32m----> 2\u001b[0;31m \u001b[0;32mimport\u001b[0m \u001b[0mnc_tools\u001b[0m\u001b[0;34m\u001b[0m\u001b[0;34m\u001b[0m\u001b[0m\n\u001b[0m\u001b[1;32m      3\u001b[0m \u001b[0;32mfrom\u001b[0m \u001b[0mimportlib\u001b[0m \u001b[0;32mimport\u001b[0m \u001b[0mreload\u001b[0m\u001b[0;34m\u001b[0m\u001b[0;34m\u001b[0m\u001b[0m\n\u001b[1;32m      4\u001b[0m \u001b[0mreload\u001b[0m\u001b[0;34m(\u001b[0m\u001b[0mnc_tools\u001b[0m\u001b[0;34m)\u001b[0m\u001b[0;34m\u001b[0m\u001b[0;34m\u001b[0m\u001b[0m\n",
      "\u001b[0;32m/data1/clawpack_src/clawpack-v5.10.0/geoclaw/examples/tsunami/common_python/nc_tools.py\u001b[0m in \u001b[0;36m<module>\u001b[0;34m\u001b[0m\n\u001b[1;32m      3\u001b[0m \"\"\"\n\u001b[1;32m      4\u001b[0m \u001b[0;34m\u001b[0m\u001b[0m\n\u001b[0;32m----> 5\u001b[0;31m \u001b[0;32mimport\u001b[0m \u001b[0mnetCDF4\u001b[0m\u001b[0;34m\u001b[0m\u001b[0;34m\u001b[0m\u001b[0m\n\u001b[0m\u001b[1;32m      6\u001b[0m \u001b[0;32mimport\u001b[0m \u001b[0mtime\u001b[0m\u001b[0;34m\u001b[0m\u001b[0;34m\u001b[0m\u001b[0m\n\u001b[1;32m      7\u001b[0m \u001b[0;32mimport\u001b[0m \u001b[0mos\u001b[0m\u001b[0;34m\u001b[0m\u001b[0;34m\u001b[0m\u001b[0m\n",
      "\u001b[0;31mModuleNotFoundError\u001b[0m: No module named 'netCDF4'"
     ]
    }
   ],
   "source": [
    "sys.path.insert(0,'../common_python')\n",
    "import nc_tools\n",
    "from importlib import reload\n",
    "reload(nc_tools)"
   ]
  },
  {
   "cell_type": "markdown",
   "metadata": {},
   "source": [
    "## Set some things...\n",
    "\n",
    "Specify the directory to read results from, and some other settings:"
   ]
  },
  {
   "cell_type": "code",
   "execution_count": 5,
   "metadata": {
    "scrolled": true
   },
   "outputs": [
    {
     "name": "stdout",
     "output_type": "stream",
     "text": [
      "Will read fgmax results from outdir = \n",
      "   /data1/clawpack_src/clawpack-v5.9.0/geoclaw/examples/tsunami/CSZ_1sec_arrival_time_NRI_PS/_output\n"
     ]
    }
   ],
   "source": [
    "save_figs = False              # make png files for figures?\n",
    "make_new_fgmax_nc_file = True  # make new netcdf file of fgmax results (possibly overwrites)?\n",
    "\n",
    "rundir = os.path.abspath('.')\n",
    "outdir = os.path.join(rundir, '_output') \n",
    "\n",
    "print('Will read fgmax results from outdir = \\n  ', outdir)"
   ]
  },
  {
   "cell_type": "code",
   "execution_count": 6,
   "metadata": {},
   "outputs": [],
   "source": [
    "use_force_dry = True\n",
    "if use_force_dry:\n",
    "    fname_force_dry = os.path.join(rundir, 'input_files', 'force_dry_init_19.data')\n",
    "    #fname_force_dry = os.path.join(rundir, 'input_files', 'force_dry_init.data')\n",
    "    \n",
    "adjust_by_dz = True\n",
    "if adjust_by_dz:\n",
    "    dtopo_path = os.path.join(rundir, '/data1/dtopo/CSZ/CSZ_L1-extended-pmel.tt3')"
   ]
  },
  {
   "cell_type": "code",
   "execution_count": 7,
   "metadata": {},
   "outputs": [],
   "source": [
    "def savefigp(fname):\n",
    "    global save_figs\n",
    "    if save_figs:\n",
    "        savefig(fname)\n",
    "        print('Created ', fname)\n",
    "    else:\n",
    "        print('save_figs = False')"
   ]
  },
  {
   "cell_type": "markdown",
   "metadata": {},
   "source": [
    "## Read in and process the fgmax results from the latest run\n"
   ]
  },
  {
   "cell_type": "code",
   "execution_count": 8,
   "metadata": {},
   "outputs": [
    {
     "name": "stdout",
     "output_type": "stream",
     "text": [
      "Output times found:  [0.0, 1800.0, 3600.0, 5400.0, 7200.0, 9000.0, 10800.0, 12600.0, 14400.0, 16200.0, 18000.0, 19800.0, 21115.057]\n",
      "\n",
      "fgmax results are presumably from final time: 21115.1 seconds = 5.87 hours\n"
     ]
    }
   ],
   "source": [
    "t_files = glob.glob(outdir + '/fort.t0*')\n",
    "times = []\n",
    "for f in t_files:\n",
    "    lines = open(f,'r').readlines()\n",
    "    for line in lines:\n",
    "        if 'time' in line: \n",
    "            t = float(line.split()[0])\n",
    "    times.append(t)\n",
    "times.sort()\n",
    "print('Output times found: ',times)\n",
    "if len(times) > 0:\n",
    "    t_hours = times[-1] / 3600.\n",
    "    print('\\nfgmax results are presumably from final time: %.1f seconds = %.2f hours'\\\n",
    "          % (times[-1], t_hours))\n",
    "else:\n",
    "    t_hours = nan"
   ]
  },
  {
   "cell_type": "code",
   "execution_count": 9,
   "metadata": {},
   "outputs": [
    {
     "name": "stdout",
     "output_type": "stream",
     "text": [
      "fgmax input file: \n",
      "  /data1/clawpack_src/clawpack-v5.9.0/geoclaw/examples/tsunami/CSZ_1sec_arrival_time_NRI_PS/_output/fgmax_grids.data\n",
      "Reading input for fgno=1, point_style = 4 \n",
      "Reading /data1/clawpack_src/clawpack-v5.9.0/geoclaw/examples/tsunami/CSZ_1sec_arrival_time_NRI_PS/_output/fgmax0001.txt ...\n",
      "point_style == 4, found 1823680 points \n",
      "Will map fgmax points onto masked arrays defined by file:\n",
      "     /data1/clawpack_src/clawpack-v5.9.0/geoclaw/examples/tsunami/CSZ_1sec_arrival_time_NRI_PS/input_files/fgmax_pts_nri_arrival_1.data\n",
      "Deduced dx = 0.000277778, dy = 0.000277778\n",
      "converted level to 2d array\n",
      "converted B to 2d array\n",
      "converted h to 2d array\n",
      "converted h_time to 2d array\n",
      "not converting attribute s == None\n",
      "not converting attribute s_time == None\n",
      "not converting attribute hs == None\n",
      "not converting attribute hs_time == None\n",
      "not converting attribute hss == None\n",
      "not converting attribute hss_time == None\n",
      "not converting attribute hmin == None\n",
      "not converting attribute hmin_time == None\n",
      "converted arrival_time to 2d array\n",
      "converted h0 to 2d array\n"
     ]
    }
   ],
   "source": [
    "# Read fgmax data:\n",
    "fg = fgmax_tools.FGmaxGrid()\n",
    "fgmax_input_file_name = outdir + '/fgmax_grids.data'\n",
    "print('fgmax input file: \\n  %s' % fgmax_input_file_name)\n",
    "fg.read_fgmax_grids_data(fgno=1, data_file=fgmax_input_file_name)\n",
    "\n",
    "fg.read_output(outdir=outdir)"
   ]
  },
  {
   "cell_type": "code",
   "execution_count": 10,
   "metadata": {
    "scrolled": false
   },
   "outputs": [
    {
     "name": "stdout",
     "output_type": "stream",
     "text": [
      "Reading input for fgno=1, point_style = 4 \n",
      "Reading /data1/clawpack_src/clawpack-v5.9.0/geoclaw/examples/tsunami/CSZ_1sec_arrival_time_NRI_PS/_output/fgmax0001.txt ...\n",
      "point_style == 4, found 1823680 points \n",
      "Will map fgmax points onto masked arrays defined by file:\n",
      "     /data1/clawpack_src/clawpack-v5.9.0/geoclaw/examples/tsunami/CSZ_1sec_arrival_time_NRI_PS/input_files/fgmax_pts_nri_arrival_1.data\n",
      "Deduced dx = 0.000277778, dy = 0.000277778\n",
      "converted level to 2d array\n",
      "converted B to 2d array\n",
      "converted h to 2d array\n",
      "converted h_time to 2d array\n",
      "not converting attribute s == None\n",
      "not converting attribute s_time == None\n",
      "not converting attribute hs == None\n",
      "not converting attribute hs_time == None\n",
      "not converting attribute hss == None\n",
      "not converting attribute hss_time == None\n",
      "not converting attribute hmin == None\n",
      "not converting attribute hmin_time == None\n",
      "converted arrival_time to 2d array\n",
      "converted h0 to 2d array\n"
     ]
    }
   ],
   "source": [
    "# convert to masked array on uniform grid for .nc file and plots:\n",
    "\n",
    "#fgm = fgmax_tools.FGmaxMaskedGrid()\n",
    "#dx = dy = 1./(3*3600.)  # For 1/3 arcsecond fgmax grid\n",
    "\n",
    "# convert to arrays and create fgm.X etc.\n",
    "#fgm.convert_lists_to_arrays(fg,dx,dy) \n",
    "\n",
    "# 1d versions of X and Y arrays:\n",
    "#fgm.x = fgm.X[0,:]\n",
    "#fgm.y = fgm.Y[:,0]\n",
    "\n",
    "#dx = dy = 1./(3*3600.)  # For 1/3 arcsecond fgmax grid\n",
    "\n",
    "# convert to masked array on uniform grid for .nc file and plots:\n",
    "fg = fgmax_tools.FGmaxGrid()\n",
    "fgmax_input_file_name = outdir + '/fgmax_grids.data'\n",
    "fg.read_fgmax_grids_data(fgno=1, data_file=fgmax_input_file_name)\n",
    "fg.read_output(outdir=outdir)"
   ]
  },
  {
   "cell_type": "code",
   "execution_count": 11,
   "metadata": {},
   "outputs": [
    {
     "name": "stdout",
     "output_type": "stream",
     "text": [
      "Over fgmax extent, min(dz) = -0.58 m, max(dz) = 0.00 m\n"
     ]
    }
   ],
   "source": [
    "# compute subsidence/uplift at each fgmax point:\n",
    "\n",
    "if adjust_by_dz:\n",
    "    dtopo = dtopotools.DTopography()\n",
    "    dtopo.read(dtopo_path, dtopo_type=3)\n",
    "    x1d = dtopo.X[0,:]\n",
    "    y1d = dtopo.Y[:,0]\n",
    "    dtopo_func = RegularGridInterpolator((x1d,y1d), dtopo.dZ[-1,:,:].T, \n",
    "                    method='linear', bounds_error=False, fill_value=0.)\n",
    "    dz = dtopo_func(list(zip(ravel(fg.X), ravel(fg.Y))))\n",
    "    fg.dz = reshape(dz, fg.X.shape)\n",
    "    print('Over fgmax extent, min(dz) = %.2f m, max(dz) = %.2f m' \\\n",
    "         % (dz.min(), dz.max()))\n",
    "else:\n",
    "    fg.dz = zeros(fg.X.shape)\n",
    "\n",
    "fg.B0 = fg.B - fg.dz   # original topo before subsidence/uplift"
   ]
  },
  {
   "cell_type": "code",
   "execution_count": 12,
   "metadata": {
    "scrolled": true
   },
   "outputs": [
    {
     "name": "stdout",
     "output_type": "stream",
     "text": [
      "*** use_force_dry is False\n"
     ]
    }
   ],
   "source": [
    "if use_force_dry:\n",
    "    print('Reading force_dry from ',fname_force_dry)\n",
    "    force_dry = topotools.Topography()\n",
    "    force_dry.read(fname_force_dry, topo_type=3)\n",
    "    dx = fg.x[1] - fg.x[0]\n",
    "    dy = fg.y[1] - fg.y[0]\n",
    "    i1 = int(round((fg.x[0]-force_dry.x[0])/dx))\n",
    "    i2 = int(round((fg.x[-1]-force_dry.x[0])/dx))\n",
    "    j1 = int(round((fg.y[0]-force_dry.y[0])/dy))\n",
    "    j2 = int(round((fg.y[-1]-force_dry.y[0])/dy))\n",
    "    if (i1<0) or (i2-i1+1 != len(fg.x)) or \\\n",
    "       (j1<0) or (j2-j1+1 != len(fg.y)):\n",
    "        print('*** force_dry does not cover fgm extent, not using')\n",
    "        use_force_dry = False\n",
    "        fg.force_dry_init = None\n",
    "    else:\n",
    "        fg.force_dry_init = force_dry.Z[j1:j2+1, i1:i2+1]\n",
    "else:\n",
    "    fg.force_dry_init = None\n",
    "    print('*** use_force_dry is False')\n",
    "\n",
    "if fg.force_dry_init is not None:\n",
    "    fg.h_onshore = ma.masked_where(fg.force_dry_init==0, fg.h)\n",
    "else:\n",
    "    fg.h_onshore = ma.masked_where(fg.B0 < 0., fg.h)\n",
    "    "
   ]
  },
  {
   "cell_type": "code",
   "execution_count": 13,
   "metadata": {},
   "outputs": [
    {
     "name": "stdout",
     "output_type": "stream",
     "text": [
      "Number of fgmax points:  1823680\n"
     ]
    }
   ],
   "source": [
    "print('Number of fgmax points: ', fg.h.count())"
   ]
  },
  {
   "cell_type": "code",
   "execution_count": 14,
   "metadata": {},
   "outputs": [
    {
     "name": "stdout",
     "output_type": "stream",
     "text": [
      "No force_dry_init array\n"
     ]
    },
    {
     "data": {
      "image/png": "[encoded data removed]",
      "text/plain": [
       "<Figure size 1000x600 with 1 Axes>"
      ]
     },
     "metadata": {},
     "output_type": "display_data"
    }
   ],
   "source": [
    "zmin = -60.\n",
    "zmax = 40.\n",
    "land_cmap = colormaps.make_colormap({ 0.0:[0.1,0.4,0.0],\n",
    "                                     0.25:[0.0,1.0,0.0],\n",
    "                                      0.5:[0.8,1.0,0.5],\n",
    "                                      1.0:[0.8,0.5,0.2]})\n",
    "\n",
    "sea_cmap = colormaps.make_colormap({ 0.0:[0,0,1], 1.:[.8,.8,1]})\n",
    "\n",
    "cmap, norm = colormaps.add_colormaps((land_cmap, sea_cmap),\n",
    "                                     data_limits=(zmin,zmax),\n",
    "                                     data_break=0.)                                   \n",
    "\n",
    "def plotZ(Z, show_cb=True):\n",
    "    pc = plottools.pcolorcells(fg.X, fg.Y, Z, cmap=cmap, norm=norm)  \n",
    "    if show_cb:\n",
    "        cb = colorbar(pc,shrink=0.5)\n",
    "        cb.set_label('meters')\n",
    "    #axis([-122.76,-122.525,47.95,48.2])\n",
    "    gca().set_aspect(1./cos(48*pi/180.))\n",
    "    ticklabel_format(useOffset=False)\n",
    "    xticks(rotation=20);\n",
    "    \n",
    "figure(figsize=(10,6))\n",
    "subplot(121)\n",
    "plotZ(fg.B, show_cb=False)\n",
    "title('GeoClaw B');\n",
    "\n",
    "if fg.force_dry_init is not None:\n",
    "    print('Found force_dry_init array')\n",
    "    subplot(122)\n",
    "    mask_all_but_dryneg = logical_or(logical_or(fg.B.mask, \n",
    "                                                logical_not(fg.force_dry_init)), \n",
    "                                     fg.B0>0)\n",
    "    B_dryneg = ma.masked_array(fg.B.data, mask=mask_all_but_dryneg)\n",
    "    plotZ(fg.B, show_cb=False)\n",
    "    \n",
    "    sea_cmap_dry = colormaps.make_colormap({ 0.0:[1.0,0.6,0.6], 1.:[1.0,0.6,0.6]})\n",
    "    cmap_dry, norm_dry = colormaps.add_colormaps((land_cmap, sea_cmap_dry),\n",
    "                                         data_limits=(zmin,zmax),\n",
    "                                         data_break=0.)\n",
    "    B0_dryneg = ma.masked_array(fg.B0.data, mask=mask_all_but_dryneg)\n",
    "    plottools.pcolorcells(fg.X, fg.Y, B0_dryneg, cmap=cmap_dry, norm=norm_dry)\n",
    "    title('B0, with dry regions below MHW pink')\n",
    "    savefigp('geoclaw_topo_and_dry.png')\n",
    "else:\n",
    "    print('No force_dry_init array')"
   ]
  },
  {
   "cell_type": "code",
   "execution_count": 15,
   "metadata": {},
   "outputs": [
    {
     "name": "stdout",
     "output_type": "stream",
     "text": [
      "No force_dry_init array\n"
     ]
    }
   ],
   "source": [
    "if fg.force_dry_init is not None:\n",
    "    print('Found force_dry_init array')\n",
    "    subplot(122)\n",
    "    mask_all_but_dryneg = logical_or(logical_or(fg.B.mask, \n",
    "                                                logical_not(fg.force_dry_init)), \n",
    "                                     fg.B0>0)\n",
    "    B_dryneg = ma.masked_array(fg.B.data, mask=mask_all_but_dryneg)\n",
    "    plotZ(fg.B, show_cb=False)\n",
    "    \n",
    "    sea_cmap_dry = colormaps.make_colormap({ 0.0:[1.0,0.6,0.6], 1.:[1.0,0.6,0.6]})\n",
    "    cmap_dry, norm_dry = colormaps.add_colormaps((land_cmap, sea_cmap_dry),\n",
    "                                         data_limits=(zmin,zmax),\n",
    "                                         data_break=0.)\n",
    "    B0_dryneg = ma.masked_array(fg.B0.data, mask=mask_all_but_dryneg)\n",
    "    plottools.pcolorcells(fg.X, fg.Y, B0_dryneg, cmap=cmap_dry, norm=norm_dry)\n",
    "    title('Eagle Harbor: 1,040,374 fgmax points (dry regions below MHW pink)')\n",
    "else:\n",
    "    print('No force_dry_init array')"
   ]
  },
  {
   "cell_type": "markdown",
   "metadata": {},
   "source": [
    "In the plot above, \"GeoClaw B\" refers to the cell-averaged topography value used by GeoClaw and stored with the fgmax output, and is generally recorded after any subsidence/uplift.  The colors are blues for values of $B < 0$ and greens/brown for $B > 0$.  If there's a plot on the right, it shows as pink any areas that were initialized as dry in spite of having $B_0 < 0$, where $B_0$ is the initial topography ($B$ corrected by $dz$)."
   ]
  },
  {
   "cell_type": "markdown",
   "metadata": {},
   "source": [
    "## Write output to netCDF file"
   ]
  },
  {
   "cell_type": "markdown",
   "metadata": {},
   "source": [
    "The next cell will add fgmax results to a copy of the `input_guemes_channel_19.nc` file containing input data that was created by [MakeInputFiles_Guemes_Channel.ipynb](MakeInputFiles_Guemes_Channel.ipynb). The `input_guemes_channel_19.nc` file contains the original topo values as well as the `fgmax_point` array that indicates which of these are fgmax points.\n",
    "\n",
    "The new file is called `results_guemes_channel_19_L1_MHW.nc`.\n",
    "\n",
    "**WARNING:** This will overwrite any previous `results.nc` file with same file name!"
   ]
  },
  {
   "cell_type": "code",
   "execution_count": 16,
   "metadata": {
    "scrolled": true
   },
   "outputs": [
    {
     "name": "stdout",
     "output_type": "stream",
     "text": [
      "Copying input_nri_arrival_time_PS_1.nc to results_nri_arrival_PS_1_L1_MHW.nc\n",
      "/data1/clawpack_src/clawpack-v5.9.0/geoclaw/examples/tsunami/CSZ_1sec_arrival_time_NRI_PS\n",
      "Appending data from fg to nc file results_nri_arrival_PS_1_L1_MHW.nc\n",
      "        nc file description:  fgmax data for NRI_arrival_time_1\n",
      "        fg.id:  \n",
      "    Adding fg.dz to nc file\n",
      "    Adding fg.B to nc file\n",
      "    Adding fg.h to nc file\n",
      "fg.s is None, not adding\n",
      "fg.hss is None, not adding\n",
      "fg.hmin is None, not adding\n",
      "    Adding fg.arrival_time to nc file\n",
      "    Adding fg.tfirstWARN to nc file\n",
      "    Adding fg.tfirstADVIS to nc file\n",
      "    Adding fg.tfirstDRAW to nc file\n",
      "    Adding fg.tfirstPOS to nc file\n",
      "    Adding fg.tfirstNEG to nc file\n",
      "Created results_nri_arrival_PS_1_L1_MHW.nc\n",
      "History:   Created with input data Mon Mar  4 22:19:12 2024 in /data1/clawpack_src/clawpack-v5.9.0/geoclaw/examples/tsunami/CSZ_1sec_arrival_time_NRI_PS;  Added output Mon Mar 25 08:59:04 2024 in /data1/clawpack_src/clawpack-v5.9.0/geoclaw/examples/tsunami/CSZ_1sec_arrival_time_NRI_PS;  \n",
      "\n",
      "Metadata:\n",
      "  outdir:   /data1/clawpack_src/clawpack-v5.9.0/geoclaw/examples/tsunami/CSZ_1sec_arrival_time_NRI_PS/_output\n",
      "  run_finished:   Fri Mar 22 07:36:35 2024\n",
      "  tfinal:   28800.0\n"
     ]
    }
   ],
   "source": [
    "fname = 'results_Eagle_Harbor_arrival_19_L_MHW.nc'\n",
    "fname_input = 'input_eagle_harbor.nc'\n",
    "print('Copying %s to %s' % (fname_input, fname))\n",
    "#os.system('cp %s %s' % (fname_input, fname))    \n",
    "shutil.copyfile(fname_input, fname)\n",
    "#fgmax_tools.write_nc_output(fname, fg, outdir=outdir, force=False)\n",
    "nc_tools.write_nc_output(fname, fg, outdir=outdir, force=True)"
   ]
  },
  {
   "cell_type": "code",
   "execution_count": null,
   "metadata": {},
   "outputs": [],
   "source": []
  }
 ],
 "metadata": {
  "kernelspec": {
   "display_name": "Python 3",
   "language": "python",
   "name": "python3"
  },
  "language_info": {
   "codemirror_mode": {
    "name": "ipython",
    "version": 3
   },
   "file_extension": ".py",
   "mimetype": "text/x-python",
   "name": "python",
   "nbconvert_exporter": "python",
   "pygments_lexer": "ipython3",
   "version": "3.6.8"
  }
 },
 "nbformat": 4,
 "nbformat_minor": 2
}
